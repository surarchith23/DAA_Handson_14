{
  "nbformat": 4,
  "nbformat_minor": 0,
  "metadata": {
    "colab": {
      "provenance": []
    },
    "kernelspec": {
      "name": "python3",
      "display_name": "Python 3"
    },
    "language_info": {
      "name": "python"
    }
  },
  "cells": [
    {
      "cell_type": "code",
      "execution_count": 6,
      "metadata": {
        "colab": {
          "base_uri": "https://localhost:8080/"
        },
        "id": "c-5XIrk05fZY",
        "outputId": "39172a75-8d53-4ce9-f91e-cb09f264539f"
      },
      "outputs": [
        {
          "output_type": "stream",
          "name": "stdout",
          "text": [
            "Topological sort:\n",
            "['A', 'D', 'B', 'C']\n",
            "\n",
            "\n",
            "Depth-First Search:\n",
            "A B C \n",
            "\n",
            "Kruskal algorithm:\n",
            "[(2, 3, 4), (0, 3, 5), (0, 1, 10)]\n"
          ]
        }
      ],
      "source": [
        "print(\"Topological sort:\")\n",
        "from collections import deque\n",
        "def topological_sort(graph):\n",
        "  in_degree={node: 0 for node in graph}\n",
        "  for node in graph:\n",
        "    for neighbor in graph[node]:\n",
        "      in_degree[neighbor]+=1\n",
        "  queue=deque([node for node in graph if in_degree[node]==0])\n",
        "  top_order=[]\n",
        "  while queue:\n",
        "    node=queue.popleft()\n",
        "    top_order.append(node)\n",
        "    for neighbor in graph[node]:\n",
        "      in_degree[neighbor]-=1\n",
        "      if in_degree[neighbor]==0:\n",
        "        queue.append(neighbor)\n",
        "  if len(top_order)==len(graph):\n",
        "    return top_order\n",
        "  else:\n",
        "    return \"Graph has a cycle!\"\n",
        "\n",
        "graph = {'A': ['B'], 'B': ['C'], 'C': [], 'D': ['C']}\n",
        "print(topological_sort(graph))\n",
        "print(\"\\n\")\n",
        "\n",
        "print(\"Depth-First Search:\")\n",
        "def dfs(graph, start, visited=None):\n",
        "  if visited is None:\n",
        "    visited=set()\n",
        "  visited.add(start)\n",
        "  print(start, end=' ')\n",
        "  for neighbor in graph[start]:\n",
        "    if neighbor not in visited:\n",
        "      dfs(graph, neighbor, visited)\n",
        "\n",
        "graph={'A': ['B'], 'B': ['C'], 'C': [], 'D': ['C']}\n",
        "dfs(graph, 'A')\n",
        "print(\"\\n\")\n",
        "\n",
        "print(\"Kruskal algorithm:\")\n",
        "class DisjointSet:\n",
        "  def __init__(self, n):\n",
        "    self.parent=list(range(n))\n",
        "    self.rank=[0]*n\n",
        "  def find(self, u):\n",
        "    if self.parent[u]!=u:\n",
        "      self.parent[u]=self.find(self.parent[u])\n",
        "    return self.parent[u]\n",
        "  def union(self, u, v):\n",
        "    root_u=self.find(u)\n",
        "    root_v=self.find(v)\n",
        "    if root_u!=root_v:\n",
        "      if self.rank[root_u]>self.rank[root_v]:\n",
        "        self.parent[root_v]=root_u\n",
        "      elif self.rank[root_u]<self.rank[root_v]:\n",
        "        self.parent[root_u]=root_v\n",
        "      else:\n",
        "        self.parent[root_v]=root_u\n",
        "        self.rank[root_u]+=1\n",
        "      return True\n",
        "    return False\n",
        "\n",
        "def kruskal(n, edges):\n",
        "  edges.sort(key=lambda x: x[2])\n",
        "  disjoint_set=DisjointSet(n)\n",
        "  mst=[]\n",
        "  for u, v, weight in edges:\n",
        "    if disjoint_set.union(u, v):\n",
        "      mst.append((u, v, weight))\n",
        "  return mst\n",
        "\n",
        "edges=[(0, 1, 10),(0, 2, 6),(0, 3, 5),(1, 3, 15),(2, 3, 4)]\n",
        "n=4\n",
        "mst=kruskal(n, edges)\n",
        "print(mst)"
      ]
    }
  ]
}